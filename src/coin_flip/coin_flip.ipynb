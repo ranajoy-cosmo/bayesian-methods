{
 "cells": [
  {
   "cell_type": "markdown",
   "id": "a815854b",
   "metadata": {},
   "source": [
    "# Coin Flips and their Statistics\n",
    "\n",
    "This script simulates a series of coin flips and calculates it's associated statistics.\n",
    "\n",
    "Flipping a coin is a binomiam process. i.e. The outcome can either be a HEAD or a TAIL.\n",
    "\n",
    "A fair coin is statistically expected to yield the same number of HEADs and TAILs. Hence, the probability of getting a HEAD is 0.5.\n",
    "\n",
    "The outcomes are encoded as.\n",
    "- 1 -> HEAD\n",
    "- 0 -> TAIL"
   ]
  },
  {
   "cell_type": "code",
   "execution_count": 21,
   "id": "c3668641",
   "metadata": {},
   "outputs": [],
   "source": [
    "%reload_ext autoreload\n",
    "%autoreload 2"
   ]
  },
  {
   "cell_type": "code",
   "execution_count": 23,
   "id": "dd61bb7b",
   "metadata": {},
   "outputs": [],
   "source": [
    "import numpy as np\n",
    "import scipy as sp\n",
    "import plotly.graph_objects as go\n",
    "import plotly.express as px\n",
    "import utils"
   ]
  },
  {
   "cell_type": "markdown",
   "id": "9d5edf06",
   "metadata": {},
   "source": [
    "### Simulating coin flips"
   ]
  },
  {
   "cell_type": "code",
   "execution_count": 26,
   "id": "f4205388",
   "metadata": {},
   "outputs": [
    {
     "name": "stdout",
     "output_type": "stream",
     "text": [
      "[[1 0 1 0 0 1 1 1 1 1]\n",
      " [0 1 1 0 0 0 0 1 0 0]\n",
      " [0 1 0 0 0 1 0 0 0 1]]\n",
      "[1 1 1 1 1 0 1 0 1 1]\n"
     ]
    }
   ],
   "source": [
    "# Check default parameter values.\n",
    "\n",
    "# Test the function with 10 flips, and 3 ensembles\n",
    "head_outcomes = utils.flip_coin(n_flips=10, n_ensembles=3)\n",
    "print(head_outcomes)\n",
    "\n",
    "# Test the function with 10 flips, and 1 ensemble\n",
    "head_outcomes_single = utils.flip_coin(n_flips=10)\n",
    "print(head_outcomes_single)"
   ]
  },
  {
   "cell_type": "markdown",
   "id": "db23fc83",
   "metadata": {},
   "source": [
    "### Checking if a coin is FAIR or not"
   ]
  },
  {
   "cell_type": "code",
   "execution_count": null,
   "id": "d9c04bc9",
   "metadata": {},
   "outputs": [
    {
     "name": "stdout",
     "output_type": "stream",
     "text": [
      "In 100 flips, there were 45 heads and 55 tails.\n",
      "The fraction of heads is 0.450.\n",
      "The estimated standard deviation of the fraction of heads is 0.050.\n",
      "The number of standard deviations from a fair coin (p_head = 0.5) is 1.01.\n",
      "The coin is estimated to be FAIR.\n"
     ]
    }
   ],
   "source": [
    "# Simulation parameters\n",
    "n_flips_sim = 100\n",
    "p_head_sim = 0.5\n",
    "# sigma_threshold = 2\n",
    "\n",
    "# Simulate coin flips\n",
    "head_outcomes = utils.flip_coin(n_flips=n_flips_sim, p_head=p_head_sim)\n",
    "\n",
    "# Analyze the outcomes\n",
    "n_heads = np.sum(head_outcomes)\n",
    "is_fair, p_head_ML, sigma_p_head_ML, num_sigma_from_fair = utils.is_coin_fair(head_outcomes)\n",
    "\n",
    "print(f\"In {n_flips_sim} flips, there were {n_heads} heads and {n_flips_sim - n_heads} tails.\")\n",
    "print(f\"The fraction of heads is {p_head_ML:.3f}.\")\n",
    "print(f\"The estimated standard deviation of the fraction of heads is {sigma_p_head_ML:.3f}.\")\n",
    "print(f\"The number of standard deviations from a fair coin (p_head = 0.5) is {num_sigma_from_fair:.2f}.\")\n",
    "if is_fair:\n",
    "    print(\"The coin is estimated to be FAIR.\")\n",
    "else:\n",
    "    print(\"The coin is estimated to be UNFAIR.\")"
   ]
  },
  {
   "cell_type": "code",
   "execution_count": null,
   "id": "f1cb4117",
   "metadata": {},
   "outputs": [
    {
     "name": "stdout",
     "output_type": "stream",
     "text": [
      "An average of 0.51 heads per 1000 flips is 0.63 sigmas away from a fair coin.\n",
      "And is therefore FAIR\n"
     ]
    }
   ],
   "source": [
    "# Parameters of analysis\n",
    "p_head_ML = 0.51\n",
    "n_flips = 1000\n",
    "sigma_threshold = 2\n",
    "\n",
    "num_std = utils.num_std_away_from_fair(p_head_ML, n_flips)\n",
    "is_fair = num_std < sigma_threshold\n",
    "print(f\"An average of {p_head_ML:.2f} heads per {n_flips} flips is {num_std:.2f} sigmas away from a fair coin.\\nAnd is therefore {'FAIR' if is_fair else 'UNFAIR'}\")  # Example usage of num_std_away_from_fair\n"
   ]
  },
  {
   "cell_type": "markdown",
   "id": "221a1285",
   "metadata": {},
   "source": [
    "### Power of a test\n",
    "\n",
    "How many trials are needed to determine if a certain outcome disproves FAIRness.\n",
    "\n",
    "NOTE: We are only able to disprove FAIRness given a threshold or confidence.\n",
    "\n",
    "Sensitivity is the gap between the condition to be FAIR and the observation.\n",
    "\n",
    "Ex. If the ML outcome is 63% HEADs, then the gap is 0.13."
   ]
  },
  {
   "cell_type": "code",
   "execution_count": 33,
   "id": "bfb7ab57",
   "metadata": {},
   "outputs": [
    {
     "name": "stdout",
     "output_type": "stream",
     "text": [
      "To detect a gap of 0.05 from FAIRness with a threshold of 2 sigmas, \n",
      "we need at least 396 flips.\n"
     ]
    }
   ],
   "source": [
    "# Analysis parameters\n",
    "sensitivity = 0.05  # The gap from 0.5 to the observed p_head_ML\n",
    "sigma_threshold = 2  # The number of standard deviations to use as a threshold for FAIRness\n",
    "\n",
    "num_flips_thres = utils.num_flips_to_achieve_sigma(sensitivity = sensitivity,\n",
    "                                                   sigma_threshold = sigma_threshold)\n",
    "\n",
    "print(f\"To detect a gap of {sensitivity:.2f} from FAIRness with a threshold of {sigma_threshold} sigmas, \\nwe need at least {num_flips_thres} flips.\")"
   ]
  },
  {
   "cell_type": "code",
   "execution_count": null,
   "id": "7afe5dd5",
   "metadata": {},
   "outputs": [],
   "source": []
  },
  {
   "cell_type": "code",
   "execution_count": null,
   "id": "80e6fd71",
   "metadata": {},
   "outputs": [],
   "source": []
  }
 ],
 "metadata": {
  "kernelspec": {
   "display_name": "bayesian-methods",
   "language": "python",
   "name": "python3"
  },
  "language_info": {
   "codemirror_mode": {
    "name": "ipython",
    "version": 3
   },
   "file_extension": ".py",
   "mimetype": "text/x-python",
   "name": "python",
   "nbconvert_exporter": "python",
   "pygments_lexer": "ipython3",
   "version": "3.9.6"
  }
 },
 "nbformat": 4,
 "nbformat_minor": 5
}
